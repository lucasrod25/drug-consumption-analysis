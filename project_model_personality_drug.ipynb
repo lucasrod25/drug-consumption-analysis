{
 "cells": [
  {
   "cell_type": "code",
   "execution_count": 1,
   "id": "c9c77533",
   "metadata": {},
   "outputs": [],
   "source": [
    "import pandas as pd\n",
    "import numpy as np\n",
    "import seaborn as sns\n",
    "import matplotlib.pyplot as plt\n",
    "\n",
    "df = pd.read_csv(\"drug_consumption.csv\", \n",
    "                  names=[\"Age\", \"Gender\", \"Education\", \"Country\", \"Ethnicity\", \"Nscore\", \"Escore\", \"Oscore\", \"Ascore\", \"Cscore\", \"Impulsive\", \"SS\", \"Alcohol\", \"Amphet\", \"Amyl\", \"Benzos\", \"Caff\", \"Cannabis\", \"Choc\", \"Coke\", \"Crack\", \"Ecstasy\", \"Heroin\", \"Ketamine\", \"Legalh\", \"LSD\", \"Meth\", \"Mushrooms\", \"Nicotine\", \"Semer\", \"VSA\"])"
   ]
  },
  {
   "cell_type": "code",
   "execution_count": 2,
   "id": "4bc57d3e",
   "metadata": {},
   "outputs": [],
   "source": [
    "arr = [\"Alcohol\", \"Amphet\", \"Amyl\", \"Benzos\", \"Caff\", \"Cannabis\", \"Choc\", \"Coke\", \"Crack\", \"Ecstasy\", \"Heroin\", \"Ketamine\", \"Legalh\", \"LSD\", \"Meth\", \"Mushrooms\", \"Nicotine\", \"Semer\", \"VSA\"]\n",
    "# remove CL and convert strings to ints\n",
    "for i in range(0,18):\n",
    "    df[arr[i]].replace({\"CL0\": arr[i]+\"_0\", \"CL1\": arr[i]+\"_1\", \"CL2\": arr[i]+\"_1\", \"CL3\": arr[i]+\"_1\", \"CL4\": arr[i]+\"_1\", \"CL5\": arr[i]+\"_1\", \"CL6\": arr[i]+\"_1\"}, inplace=True)\n",
    "    #df[arr[i]] = pd.to_numeric(df[arr[i]])"
   ]
  },
  {
   "cell_type": "code",
   "execution_count": 3,
   "id": "5ba5a8b5",
   "metadata": {
    "scrolled": false
   },
   "outputs": [],
   "source": [
    "from sklearn.preprocessing import LabelEncoder, OneHotEncoder, MinMaxScaler\n",
    "from enum import IntEnum\n",
    "\n",
    "X = df[[\"Nscore\", \"Escore\", \"Oscore\", \"Ascore\", \"Cscore\", \"Impulsive\", \"SS\"]]\n",
    "y_cols = [\"Alcohol\", \"Amphet\", \"Cannabis\", \"Coke\", \"Ecstasy\", \"LSD\", \"Meth\", \"Mushrooms\"]\n",
    "y_enum = IntEnum(\"cols\", y_cols, start = 0)\n",
    "y = [None] * len(y_cols) #pd.DataFrame() #df[[\"Alcohol\", \"Amphet\", \"Cannabis\", \"Coke\", \"Ecstasy\", \"LSD\", \"Meth\", \"Mushrooms\"]]\n",
    "\n",
    "def one_hot_encoding(df, col):\n",
    "    # one-hot encoding to represent classes\n",
    "    myData_encoder = LabelEncoder()\n",
    "    myData_encoded =  myData_encoder.fit_transform(df[col]) \n",
    "\n",
    "    # binary encode\n",
    "    onehot_encoder = OneHotEncoder(sparse=False) # disable sparse return type\n",
    "\n",
    "    # reshape the array\n",
    "    myData_encoded = myData_encoded.reshape(len(myData_encoded), 1) \n",
    "    onehot_encoded = onehot_encoder.fit_transform(myData_encoded) \n",
    "    #print(onehot_encoded)\n",
    "    return(pd.DataFrame(onehot_encoded, columns = myData_encoder.classes_))\n",
    "\n",
    "for col_name in y_cols:\n",
    "    # convert ndarrary of encodings to dataframe using myData_encoder.classes_ as column names\n",
    "    y[y_enum[col_name].value] = one_hot_encoding(df, col_name)"
   ]
  },
  {
   "cell_type": "code",
   "execution_count": 29,
   "id": "ee7d769f",
   "metadata": {},
   "outputs": [
    {
     "name": "stdout",
     "output_type": "stream",
     "text": [
      "Alcohol\n",
      "\n",
      "Model Accuracy: 0.986737400530504\n",
      "Model RMSE: 0.11516335992621968 \n",
      "\n",
      "Amphet\n",
      "\n",
      "Model Accuracy: 0.7082228116710876\n",
      "Model RMSE: 0.5389349945790891 \n",
      "\n",
      "Cannabis\n",
      "\n",
      "Model Accuracy: 0.8222811671087533\n",
      "Model RMSE: 0.41999115817395144 \n",
      "\n",
      "Coke\n",
      "\n",
      "Model Accuracy: 0.6525198938992043\n",
      "Model RMSE: 0.5872202195147035 \n",
      "\n",
      "Ecstasy\n",
      "\n",
      "Model Accuracy: 0.726790450928382\n",
      "Model RMSE: 0.5226945083618327 \n",
      "\n",
      "LSD\n",
      "\n",
      "Model Accuracy: 0.7374005305039788\n",
      "Model RMSE: 0.5124446013922102 \n",
      "\n",
      "Meth\n",
      "\n",
      "Model Accuracy: 0.7745358090185677\n",
      "Model RMSE: 0.4748306971768278 \n",
      "\n",
      "Mushrooms\n",
      "\n",
      "Model Accuracy: 0.7400530503978779\n",
      "Model RMSE: 0.5059329696326117 \n",
      "\n"
     ]
    }
   ],
   "source": [
    "from sklearn.model_selection import train_test_split\n",
    "from sklearn.neural_network import MLPClassifier\n",
    "from sklearn.metrics import mean_squared_error, multilabel_confusion_matrix, ConfusionMatrixDisplay, precision_score, recall_score\n",
    "\n",
    "from math import sqrt\n",
    "\n",
    "models = [None] * len(y_cols) #list of models in y_cols order\n",
    "\n",
    "def train(X, y):\n",
    "    X_train, X_test, y_train, y_test = train_test_split(X,y,random_state=1, test_size=0.2)\n",
    "\n",
    "    clf = MLPClassifier(hidden_layer_sizes=(32, 24, 12), learning_rate_init = 0.1, activation=\"logistic\",solver = 'sgd', max_iter = 1000, random_state=1)\n",
    "\n",
    "    clf.fit(X_train, y_train)\n",
    "    \n",
    "    y_pred = clf.predict(X_test) \n",
    "\n",
    "    #accuracy and MSE\n",
    "    print('\\nModel Accuracy:', clf.score(X_test, y_test))\n",
    "    print('Model RMSE:', sqrt(mean_squared_error(y_test, y_pred)), '\\n')\n",
    "    \n",
    "    return clf\n",
    "\n",
    "for drug, y_col in zip(y, y_cols):\n",
    "    print(y_col)\n",
    "    models[y_enum[col_name].value] = train(X, drug)\n",
    "\n",
    "# train(X, y[0])"
   ]
  },
  {
   "cell_type": "code",
   "execution_count": null,
   "id": "0e89fd6b",
   "metadata": {},
   "outputs": [],
   "source": []
  }
 ],
 "metadata": {
  "kernelspec": {
   "display_name": "Python 3",
   "language": "python",
   "name": "python3"
  },
  "language_info": {
   "codemirror_mode": {
    "name": "ipython",
    "version": 3
   },
   "file_extension": ".py",
   "mimetype": "text/x-python",
   "name": "python",
   "nbconvert_exporter": "python",
   "pygments_lexer": "ipython3",
   "version": "3.8.8"
  }
 },
 "nbformat": 4,
 "nbformat_minor": 5
}
